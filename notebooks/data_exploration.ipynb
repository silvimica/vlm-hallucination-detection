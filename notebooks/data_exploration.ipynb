{
 "cells": [
  {
   "cell_type": "code",
   "execution_count": 1,
   "metadata": {},
   "outputs": [
    {
     "name": "stderr",
     "output_type": "stream",
     "text": [
      "/home/maiya.goloburda/miniconda3/envs/vlm-hallucinations/lib/python3.10/site-packages/tqdm/auto.py:21: TqdmWarning: IProgress not found. Please update jupyter and ipywidgets. See https://ipywidgets.readthedocs.io/en/stable/user_install.html\n",
      "  from .autonotebook import tqdm as notebook_tqdm\n",
      "[nltk_data] Downloading package punkt to\n",
      "[nltk_data]     /home/maiya.goloburda/nltk_data...\n",
      "[nltk_data]   Package punkt is already up-to-date!\n"
     ]
    }
   ],
   "source": [
    "# Import necessary libraries and modules\n",
    "import sys\n",
    "import os\n",
    "sys.path.append('../src')  # Add src folder to the Python path\n",
    "import json\n",
    "import numpy as np\n",
    "from datasets import Dataset\n",
    "from data_processing.preprocessing import get_dataset\n",
    "\n",
    "train_dataset , val_dataset = get_dataset('train', True)\n",
    "\n",
    "# Test set\n",
    "test_dataset = get_dataset('val')"
   ]
  },
  {
   "cell_type": "code",
   "execution_count": 4,
   "metadata": {},
   "outputs": [
    {
     "name": "stdout",
     "output_type": "stream",
     "text": [
      "       Dataset  n_samples                                   Class Balance\n",
      "0  Train + Val      50337  {1: 0.2981107336551642, 0: 0.7018892663448358}\n",
      "1         Test      14378  {0: 0.713381555153707, 1: 0.28661844484629295}\n"
     ]
    }
   ],
   "source": [
    "from collections import Counter\n",
    "import pandas as pd\n",
    "from datasets import concatenate_datasets\n",
    "\n",
    "# Combine train and val datasets\n",
    "combined_dataset = concatenate_datasets([train_dataset, val_dataset])\n",
    "\n",
    "# Count the number of samples\n",
    "n_samples_combined = len(combined_dataset)\n",
    "n_samples_test = len(test_dataset)\n",
    "\n",
    "# Calculate class balance for combined dataset\n",
    "class_counts_combined = Counter(combined_dataset['label'])\n",
    "class_balance_combined = {label: count / n_samples_combined for label, count in class_counts_combined.items()}\n",
    "\n",
    "# Calculate class balance for test dataset\n",
    "class_counts_test = Counter(test_dataset['label'])\n",
    "class_balance_test = {label: count / n_samples_test for label, count in class_counts_test.items()}\n",
    "\n",
    "# Create a summary DataFrame\n",
    "summary_df = pd.DataFrame({\n",
    "    'Dataset': ['Train + Val', 'Test'],\n",
    "    'n_samples': [n_samples_combined, n_samples_test],\n",
    "    'Class Balance': [class_balance_combined, class_balance_test]\n",
    "})\n",
    "\n",
    "# Display the summary\n",
    "print(summary_df)\n"
   ]
  }
 ],
 "metadata": {
  "kernelspec": {
   "display_name": "vlm-hallucinations",
   "language": "python",
   "name": "python3"
  },
  "language_info": {
   "codemirror_mode": {
    "name": "ipython",
    "version": 3
   },
   "file_extension": ".py",
   "mimetype": "text/x-python",
   "name": "python",
   "nbconvert_exporter": "python",
   "pygments_lexer": "ipython3",
   "version": "3.10.15"
  },
  "orig_nbformat": 4
 },
 "nbformat": 4,
 "nbformat_minor": 2
}
